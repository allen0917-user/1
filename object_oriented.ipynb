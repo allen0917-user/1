{
  "nbformat": 4,
  "nbformat_minor": 0,
  "metadata": {
    "colab": {
      "name": "object oriented.ipynb",
      "provenance": [],
      "collapsed_sections": [],
      "toc_visible": true,
      "authorship_tag": "ABX9TyMZg0vwC98myqcDYK/7BgAU",
      "include_colab_link": true
    },
    "kernelspec": {
      "name": "python3",
      "display_name": "Python 3"
    }
  },
  "cells": [
    {
      "cell_type": "markdown",
      "metadata": {
        "id": "view-in-github",
        "colab_type": "text"
      },
      "source": [
        "<a href=\"https://colab.research.google.com/github/allen0917-user/1/blob/master/object_oriented.ipynb\" target=\"_parent\"><img src=\"https://colab.research.google.com/assets/colab-badge.svg\" alt=\"Open In Colab\"/></a>"
      ]
    },
    {
      "cell_type": "code",
      "metadata": {
        "id": "XBTRVmL4ahmW",
        "colab_type": "code",
        "outputId": "24da6dfb-eeef-4aa9-922a-30661f46d082",
        "colab": {
          "base_uri": "https://localhost:8080/",
          "height": 68
        }
      },
      "source": [
        "#物件導向-類別\n",
        "class student:\n",
        "  major = \"EE\"#定義 static variable\n",
        "  #方法(定義)\n",
        "  def __init__(self, name):\n",
        "    #物件=屬性\n",
        "    self.name=name\n",
        "\n",
        "  def __print__(self, text):\n",
        "    self.text=text\n",
        "    print(self.text)\n",
        "\n",
        "#init\n",
        "s1=student(\"alex\")\n",
        "print(s1.name)\n",
        "\n",
        "#訪問其他方法\n",
        "s1.__print__(\"helloword\")\n",
        "#static variable in class\n",
        "print(student.major,s1.major)\n",
        "      \n",
        "    "
      ],
      "execution_count": 0,
      "outputs": [
        {
          "output_type": "stream",
          "text": [
            "alex\n",
            "helloword\n",
            "EE EE\n"
          ],
          "name": "stdout"
        }
      ]
    },
    {
      "cell_type": "markdown",
      "metadata": {
        "id": "jn5UHq68jZeW",
        "colab_type": "text"
      },
      "source": [
        "# New Section"
      ]
    },
    {
      "cell_type": "code",
      "metadata": {
        "id": "QYbYjou-jf3r",
        "colab_type": "code",
        "colab": {}
      },
      "source": [
        "from google.colab import drive\n",
        "drive.mount('/content/drive')"
      ],
      "execution_count": 0,
      "outputs": []
    }
  ]
}